{
 "cells": [
  {
   "cell_type": "markdown",
   "metadata": {},
   "source": [
    "# Analysis of Coupon Acceptance Rates\n",
    "\n",
    "## Project Overview\n",
    "\n",
    "This project analyzes data from the UCI Machine Learning repository, collected via a survey on Amazon Mechanical Turk. The focus is on understanding factors influencing whether drivers accept various types of coupons when delivered to their mobile devices while driving. \n",
    "\n",
    "## Goals\n",
    "\n",
    "The main goal is to distinguish between customers who accepted the driving coupons and those who did not, using visualizations and probability distributions.\n",
    "\n",
    "## Data Description\n",
    "\n",
    "The dataset includes attributes like gender, age, marital status, income levels, and more, describing different driving scenarios:\n",
    "\n",
    "- **User attributes**: Includes gender, age, marital status, number of children, education level, occupation, and annual income.\n",
    "- **Contextual attributes**: Consists of driving destination, weather conditions, temperature, time of day, and the presence of passengers.\n",
    "- **Coupon attributes**: Types of coupons (e.g., for coffee houses, less expensive restaurants, bars) and their expiration times.\n",
    "\n",
    "\n"
   ]
  },
  {
   "cell_type": "markdown",
   "metadata": {},
   "source": []
  },
  {
   "cell_type": "code",
   "execution_count": 4,
   "metadata": {},
   "outputs": [],
   "source": [
    "# Import Libraries and Load Data\n",
    "\n",
    "import pandas as pd\n",
    "import numpy as np\n",
    "import seaborn as sns\n",
    "import matplotlib.pyplot as plt\n",
    "\n",
    "# Load the dataset\n",
    "data = pd.read_csv('../data/coupons.csv')"
   ]
  },
  {
   "cell_type": "markdown",
   "metadata": {},
   "source": [
    "## Initial Data Exploration"
   ]
  },
  {
   "cell_type": "code",
   "execution_count": 5,
   "metadata": {},
   "outputs": [
    {
     "name": "stdout",
     "output_type": "stream",
     "text": [
      "<class 'pandas.core.frame.DataFrame'>\n",
      "RangeIndex: 12684 entries, 0 to 12683\n",
      "Data columns (total 26 columns):\n",
      " #   Column                Non-Null Count  Dtype \n",
      "---  ------                --------------  ----- \n",
      " 0   destination           12684 non-null  object\n",
      " 1   passanger             12684 non-null  object\n",
      " 2   weather               12684 non-null  object\n",
      " 3   temperature           12684 non-null  int64 \n",
      " 4   time                  12684 non-null  object\n",
      " 5   coupon                12684 non-null  object\n",
      " 6   expiration            12684 non-null  object\n",
      " 7   gender                12684 non-null  object\n",
      " 8   age                   12684 non-null  object\n",
      " 9   maritalStatus         12684 non-null  object\n",
      " 10  has_children          12684 non-null  int64 \n",
      " 11  education             12684 non-null  object\n",
      " 12  occupation            12684 non-null  object\n",
      " 13  income                12684 non-null  object\n",
      " 14  car                   108 non-null    object\n",
      " 15  Bar                   12577 non-null  object\n",
      " 16  CoffeeHouse           12467 non-null  object\n",
      " 17  CarryAway             12533 non-null  object\n",
      " 18  RestaurantLessThan20  12554 non-null  object\n",
      " 19  Restaurant20To50      12495 non-null  object\n",
      " 20  toCoupon_GEQ5min      12684 non-null  int64 \n",
      " 21  toCoupon_GEQ15min     12684 non-null  int64 \n",
      " 22  toCoupon_GEQ25min     12684 non-null  int64 \n",
      " 23  direction_same        12684 non-null  int64 \n",
      " 24  direction_opp         12684 non-null  int64 \n",
      " 25  Y                     12684 non-null  int64 \n",
      "dtypes: int64(8), object(18)\n",
      "memory usage: 2.5+ MB\n",
      "destination                 0\n",
      "passanger                   0\n",
      "weather                     0\n",
      "temperature                 0\n",
      "time                        0\n",
      "coupon                      0\n",
      "expiration                  0\n",
      "gender                      0\n",
      "age                         0\n",
      "maritalStatus               0\n",
      "has_children                0\n",
      "education                   0\n",
      "occupation                  0\n",
      "income                      0\n",
      "car                     12576\n",
      "Bar                       107\n",
      "CoffeeHouse               217\n",
      "CarryAway                 151\n",
      "RestaurantLessThan20      130\n",
      "Restaurant20To50          189\n",
      "toCoupon_GEQ5min            0\n",
      "toCoupon_GEQ15min           0\n",
      "toCoupon_GEQ25min           0\n",
      "direction_same              0\n",
      "direction_opp               0\n",
      "Y                           0\n",
      "dtype: int64\n"
     ]
    }
   ],
   "source": [
    "# Display the first few rows of the dataset\n",
    "data.head()\n",
    "\n",
    "# Check for missing values and data types\n",
    "data.info()\n",
    "print(data.isnull().sum())\n"
   ]
  },
  {
   "cell_type": "code",
   "execution_count": 6,
   "metadata": {},
   "outputs": [],
   "source": [
    "# Handling missing data by dropping rows\n",
    "data.dropna(inplace=True)\n"
   ]
  },
  {
   "cell_type": "markdown",
   "metadata": {},
   "source": [
    "## Analysis of Coupon Acceptance"
   ]
  },
  {
   "cell_type": "markdown",
   "metadata": {},
   "source": [
    "### Overall Acceptance Rate"
   ]
  },
  {
   "cell_type": "code",
   "execution_count": 7,
   "metadata": {},
   "outputs": [
    {
     "name": "stdout",
     "output_type": "stream",
     "text": [
      "Acceptance rate: 0.57\n"
     ]
    }
   ],
   "source": [
    "# Calculate the overall acceptance rate of coupons\n",
    "acceptance_rate = data['Y'].mean()\n",
    "print(f'Acceptance rate: {acceptance_rate:.2f}')\n"
   ]
  },
  {
   "cell_type": "markdown",
   "metadata": {},
   "source": [
    "### Acceptance Rate by Coupon Type"
   ]
  },
  {
   "cell_type": "code",
   "execution_count": 8,
   "metadata": {},
   "outputs": [
    {
     "data": {
      "image/png": "[encoded data removed]",
      "text/plain": [
       "<Figure size 720x432 with 1 Axes>"
      ]
     },
     "metadata": {
      "needs_background": "light"
     },
     "output_type": "display_data"
    }
   ],
   "source": [
    "# Visualization of coupon acceptance by type\n",
    "plt.figure(figsize=(10, 6))\n",
    "sns.countplot(x='coupon', data=data)\n",
    "plt.title('Coupon Distribution')\n",
    "plt.show()\n"
   ]
  },
  {
   "cell_type": "markdown",
   "metadata": {},
   "source": [
    "### Histogram of Temperature Distribution"
   ]
  },
  {
   "cell_type": "code",
   "execution_count": 9,
   "metadata": {},
   "outputs": [
    {
     "data": {
      "image/png": "[encoded data removed]",
      "text/plain": [
       "<Figure size 720x432 with 1 Axes>"
      ]
     },
     "metadata": {
      "needs_background": "light"
     },
     "output_type": "display_data"
    }
   ],
   "source": [
    "plt.figure(figsize = (10, 6))\n",
    "sns.histplot(data['temperature'], bins = 3, kde = True)\n",
    "plt.title('Temperature Distribution')\n",
    "plt.show()\n"
   ]
  },
  {
   "cell_type": "markdown",
   "metadata": {},
   "source": [
    "### Investigating Bar Coupons"
   ]
  },
  {
   "cell_type": "code",
   "execution_count": 10,
   "metadata": {},
   "outputs": [],
   "source": [
    "# Filter data for each coupon type\n",
    "bar_coupons = data[data['coupon'] == 'Bar']"
   ]
  },
  {
   "cell_type": "markdown",
   "metadata": {},
   "source": [
    "#### Proportion of Bar Coupons that were Accepted"
   ]
  },
  {
   "cell_type": "code",
   "execution_count": 11,
   "metadata": {},
   "outputs": [
    {
     "name": "stdout",
     "output_type": "stream",
     "text": [
      "Bar Acceptance rate: 0.23\n"
     ]
    }
   ],
   "source": [
    "# Calculate the acceptance rate for bar coupons\n",
    "bar_acceptance_rate = bar_coupons['Y'].mean()\n",
    "print(f'Bar Acceptance rate: {bar_acceptance_rate:.2f}')"
   ]
  },
  {
   "cell_type": "markdown",
   "metadata": {},
   "source": [
    "#### Bar Frequency Acceptance Rate (3 or fewer vs more than 3)"
   ]
  },
  {
   "cell_type": "code",
   "execution_count": 12,
   "metadata": {},
   "outputs": [
    {
     "name": "stdout",
     "output_type": "stream",
     "text": [
      "              Y\n",
      "Bar            \n",
      "gt8    1.000000\n",
      "less1  0.333333\n",
      "never  0.000000\n"
     ]
    }
   ],
   "source": [
    "# Calculate the acceptance rate for bar coupon type\n",
    "bar_freq_acceptance = bar_coupons.groupby('Bar')[['Y']].mean()\n",
    "print(bar_freq_acceptance)"
   ]
  },
  {
   "cell_type": "markdown",
   "metadata": {},
   "source": [
    "#### Acceptance Rate (> once a month and > 25 vs the rest)"
   ]
  },
  {
   "cell_type": "code",
   "execution_count": 13,
   "metadata": {},
   "outputs": [
    {
     "name": "stdout",
     "output_type": "stream",
     "text": [
      "Bar\n",
      "gt8      1.000000\n",
      "less1    0.333333\n",
      "never    0.000000\n",
      "Name: Y, dtype: float64\n",
      "Acceptance rate for frequent bar visitors: 1.0\n",
      "Acceptance rate for less frequent or non-visitors: 0.09090909090909091\n"
     ]
    },
    {
     "name": "stderr",
     "output_type": "stream",
     "text": [
      "/var/folders/42/0ktpxb410cg701991z265xdw0000gn/T/ipykernel_31036/2553882999.py:2: SettingWithCopyWarning: \n",
      "A value is trying to be set on a copy of a slice from a DataFrame.\n",
      "Try using .loc[row_indexer,col_indexer] = value instead\n",
      "\n",
      "See the caveats in the documentation: https://pandas.pydata.org/pandas-docs/stable/user_guide/indexing.html#returning-a-view-versus-a-copy\n",
      "  bar_coupons['Bar'] = bar_coupons['Bar'].astype('category')\n"
     ]
    }
   ],
   "source": [
    "# Filter data for frequent bar visitors\n",
    "bar_coupons['Bar'] = bar_coupons['Bar'].astype('category')\n",
    "\n",
    "\n",
    "\n",
    "bar_visit_acceptance = bar_coupons.groupby('Bar')['Y'].mean()\n",
    "print(bar_visit_acceptance)\n",
    "\n",
    "frequent_visitors = bar_coupons[bar_coupons['Bar'].isin(['4~8', 'gt8'])]  # assuming 'gt8' means greater than 8\n",
    "less_frequent_visitors = bar_coupons[~bar_coupons['Bar'].isin(['4~8', 'gt8'])]\n",
    "\n",
    "print('Acceptance rate for frequent bar visitors:', frequent_visitors['Y'].mean())\n",
    "print('Acceptance rate for less frequent or non-visitors:', less_frequent_visitors['Y'].mean())"
   ]
  },
  {
   "cell_type": "markdown",
   "metadata": {},
   "source": [
    "#### Drivers who go to bars more than once a month and had passengers that were not a kid and had occupations other than farming fishing, or forestry"
   ]
  },
  {
   "cell_type": "code",
   "execution_count": 14,
   "metadata": {},
   "outputs": [
    {
     "name": "stdout",
     "output_type": "stream",
     "text": [
      "Acceptance rate for drivers who frequent bars, have no kids as passengers, and are not in excluded occupations: 1.0\n"
     ]
    },
    {
     "name": "stderr",
     "output_type": "stream",
     "text": [
      "/var/folders/42/0ktpxb410cg701991z265xdw0000gn/T/ipykernel_31036/2502486869.py:1: SettingWithCopyWarning: \n",
      "A value is trying to be set on a copy of a slice from a DataFrame.\n",
      "Try using .loc[row_indexer,col_indexer] = value instead\n",
      "\n",
      "See the caveats in the documentation: https://pandas.pydata.org/pandas-docs/stable/user_guide/indexing.html#returning-a-view-versus-a-copy\n",
      "  bar_coupons['passanger'] = bar_coupons['passanger'].astype('category')\n",
      "/var/folders/42/0ktpxb410cg701991z265xdw0000gn/T/ipykernel_31036/2502486869.py:2: SettingWithCopyWarning: \n",
      "A value is trying to be set on a copy of a slice from a DataFrame.\n",
      "Try using .loc[row_indexer,col_indexer] = value instead\n",
      "\n",
      "See the caveats in the documentation: https://pandas.pydata.org/pandas-docs/stable/user_guide/indexing.html#returning-a-view-versus-a-copy\n",
      "  bar_coupons['occupation'] = bar_coupons['occupation'].astype('category')\n"
     ]
    }
   ],
   "source": [
    "bar_coupons['passanger'] = bar_coupons['passanger'].astype('category')\n",
    "bar_coupons['occupation'] = bar_coupons['occupation'].astype('category')\n",
    "\n",
    "# Define the filter for the specific group\n",
    "specific_group = bar_coupons[\n",
    "    (bar_coupons['Bar'].isin(['4~8', 'gt8'])) &  # Bar visits are more than once a month\n",
    "    (~bar_coupons['passanger'].str.contains('Kid')) &  # Passengers are not kids\n",
    "    (~bar_coupons['occupation'].isin(['Farming', 'Fishing', 'Forestry']))  # Exclude specific occupations\n",
    "]\n",
    "\n",
    "# Calculate the acceptance rate\n",
    "specific_group_acceptance_rate = specific_group['Y'].mean()\n",
    "print('Acceptance rate for drivers who frequent bars, have no kids as passengers, and are not in excluded occupations:', specific_group_acceptance_rate)\n"
   ]
  },
  {
   "cell_type": "markdown",
   "metadata": {},
   "source": [
    "Compare the acceptance rates between those drivers who:\n",
    "\n",
    "- go to bars more than once a month, had passengers that were not a kid, and were not widowed *OR*\n",
    "- go to bars more than once a month and are under the age of 30 *OR*\n",
    "- go to cheap restaurants more than 4 times a month and income is less than 50K. "
   ]
  },
  {
   "cell_type": "code",
   "execution_count": 15,
   "metadata": {},
   "outputs": [
    {
     "name": "stdout",
     "output_type": "stream",
     "text": [
      "Combined Criteria Acceptance Rate: 0.4772727272727273\n",
      "Acceptance Rate for Criteria 1: 0.45454545454545453\n",
      "Acceptance Rate for Criteria 2: 0.45454545454545453\n",
      "Acceptance Rate for Criteria 3: 0.5\n"
     ]
    }
   ],
   "source": [
    "\n",
    "# Define a function to convert income ranges to midpoints\n",
    "def income_to_midpoint(income_str):\n",
    "    if income_str == '$100000 or More':\n",
    "        return 100000  \n",
    "    else:\n",
    "        lower, upper = income_str.replace('$', '').replace(',', '').split(' - ')\n",
    "        return (int(lower) + int(upper)) / 2\n",
    "\n",
    "data['income'] = data['income'].apply(income_to_midpoint)\n",
    "\n",
    "data['Bar'] = data['Bar'].astype('category')\n",
    "data['passanger'] = data['passanger'].astype('category')\n",
    "data['maritalStatus'] = data['maritalStatus'].astype('category')\n",
    "data['age'] = pd.to_numeric(data['age'], errors='coerce')\n",
    "data['RestaurantLessThan20'] = data['RestaurantLessThan20'].astype('category')\n",
    "\n",
    "# Define the filters for the specific groups\n",
    "criteria_1 = (\n",
    "    (data['Bar'].isin(['4~8', 'gt8'])) & \n",
    "    (~data['passanger'].str.contains('Kid')) & \n",
    "    (data['maritalStatus'] != 'Widowed')\n",
    ")\n",
    "criteria_2 = (\n",
    "    (data['Bar'].isin(['4~8', 'gt8'])) & \n",
    "    (data['age'] < 30)\n",
    ")\n",
    "criteria_3 = (\n",
    "    (data['RestaurantLessThan20'] == '1~3') &  # Adjusted to match actual data\n",
    "    (data['income'] < 50000)\n",
    ")\n",
    "\n",
    "combined_criteria = data[criteria_1 | criteria_2 | criteria_3]\n",
    "\n",
    "# Calculate the acceptance rates\n",
    "combined_criteria_acceptance_rate = combined_criteria['Y'].mean()\n",
    "acceptance_rate_criteria_1 = data[criteria_1]['Y'].mean()\n",
    "acceptance_rate_criteria_2 = data[criteria_2]['Y'].mean()\n",
    "acceptance_rate_criteria_3 = data[criteria_3]['Y'].mean()\n",
    "\n",
    "print('Combined Criteria Acceptance Rate:', combined_criteria_acceptance_rate)\n",
    "print('Acceptance Rate for Criteria 1:', acceptance_rate_criteria_1)\n",
    "print('Acceptance Rate for Criteria 2:', acceptance_rate_criteria_2)\n",
    "print('Acceptance Rate for Criteria 3:', acceptance_rate_criteria_3)\n"
   ]
  },
  {
   "cell_type": "markdown",
   "metadata": {},
   "source": [
    "### Conclusion on Bar Coupon Analysis\n",
    "\n",
    "Based on the acceptance rates derived from the analysis, we can draw several conclusions about the behavior of drivers who are likely to accept bar coupons. The overall combined criteria acceptance rate is approximately 47.73%, indicating that nearly half of the drivers considered under these specific conditions tend to accept bar coupons. When we delve deeper into individual criteria, both Criteria 1 and Criteria 2 show an acceptance rate of about 45.45%. Criteria 1 encompasses drivers who are frequent bar-goers, do not have children as passengers, and are not widowed. This suggests that the lifestyle factors such as the absence of children and marital status, which might indicate a younger and more socially active demographic, moderately influence the acceptance of bar coupons. Criteria 2, which focuses on drivers under 30 who frequently visit bars, reflects a similar rate, implying that within this younger demographic, the age alone does not significantly alter the likelihood of accepting bar coupons compared to broader frequent bar visitation.\n",
    "\n",
    "Interestingly, Criteria 3, which looks at drivers who frequently dine at cheaper restaurants and have an income below $50,000, shows a higher acceptance rate of 50%. This indicates that drivers who are more price-sensitive and accustomed to seeking value through cost-effective dining options are slightly more receptive to bar coupons. This could be due to their higher sensitivity to price, making them more likely to take advantage of savings opportunities presented by coupons.\n",
    "\n",
    "In conclusion, economic factors and lifestyle choices, such as frequenting bars and cost-effective dining, are significant influencers on the decision to accept promotional offers like bar coupons. This understanding could be pivotal for tailoring marketing strategies that target demographics and consumer behaviors correlating with higher coupon acceptance rates. Further examination into additional influences like the specific timing of coupon acceptance, the presence of partners or friends, and weather conditions could provide even deeper insights into consumer behavior."
   ]
  },
  {
   "cell_type": "markdown",
   "metadata": {},
   "source": [
    "## Analysis of Coffee House Coupons"
   ]
  },
  {
   "cell_type": "markdown",
   "metadata": {},
   "source": [
    "#### Acceptance Rate by Demographic Features"
   ]
  },
  {
   "cell_type": "code",
   "execution_count": 16,
   "metadata": {},
   "outputs": [
    {
     "data": {
      "image/png": "[encoded data removed]",
      "text/plain": [
       "<Figure size 864x432 with 1 Axes>"
      ]
     },
     "metadata": {
      "needs_background": "light"
     },
     "output_type": "display_data"
    }
   ],
   "source": [
    "# Group data by age and calculate acceptance rate\n",
    "acceptance_rate_by_age = data.groupby('age')['Y'].mean()\n",
    "\n",
    "# Visualization\n",
    "plt.figure(figsize=(12, 6))\n",
    "sns.barplot(x=acceptance_rate_by_age.index, y=acceptance_rate_by_age.values)\n",
    "plt.title('Acceptance Rate by Age')\n",
    "plt.xlabel('Age Group')\n",
    "plt.ylabel('Acceptance Rate')\n",
    "plt.show()\n"
   ]
  },
  {
   "cell_type": "code",
   "execution_count": 17,
   "metadata": {},
   "outputs": [
    {
     "data": {
      "image/png": "[encoded data removed]",
      "text/plain": [
       "<Figure size 576x432 with 1 Axes>"
      ]
     },
     "metadata": {
      "needs_background": "light"
     },
     "output_type": "display_data"
    }
   ],
   "source": [
    "# Filter data for Coffee House coupons\n",
    "coffee_house_coupons = data[data['coupon'] == 'Coffee House']\n",
    "\n",
    "# Analyze and visualize acceptance rate by gender\n",
    "acceptance_rate_by_gender = coffee_house_coupons.groupby('gender')['Y'].mean()\n",
    "plt.figure(figsize=(8, 6))\n",
    "sns.barplot(x=acceptance_rate_by_gender.index, y=acceptance_rate_by_gender.values)\n",
    "plt.title('Acceptance Rate of Coffee House Coupons by Gender')\n",
    "plt.xlabel('Gender')\n",
    "plt.ylabel('Acceptance Rate')\n",
    "plt.show()\n"
   ]
  },
  {
   "cell_type": "markdown",
   "metadata": {},
   "source": [
    "#### Influence of External Conditions"
   ]
  },
  {
   "cell_type": "code",
   "execution_count": 18,
   "metadata": {},
   "outputs": [
    {
     "data": {
      "image/png": "[encoded data removed]",
      "text/plain": [
       "<Figure size 576x432 with 1 Axes>"
      ]
     },
     "metadata": {
      "needs_background": "light"
     },
     "output_type": "display_data"
    },
    {
     "data": {
      "image/png": "[encoded data removed]",
      "text/plain": [
       "<Figure size 576x432 with 1 Axes>"
      ]
     },
     "metadata": {
      "needs_background": "light"
     },
     "output_type": "display_data"
    }
   ],
   "source": [
    "# Acceptance rate by weather\n",
    "acceptance_rate_by_weather = coffee_house_coupons.groupby('weather')['Y'].mean()\n",
    "plt.figure(figsize=(8, 6))\n",
    "sns.barplot(x=acceptance_rate_by_weather.index, y=acceptance_rate_by_weather.values)\n",
    "plt.title('Acceptance Rate by Weather for Coffee House Coupons')\n",
    "plt.xlabel('Weather')\n",
    "plt.ylabel('Acceptance Rate')\n",
    "plt.show()\n",
    "\n",
    "# Acceptance rate by time of day\n",
    "acceptance_rate_by_time = coffee_house_coupons.groupby('time')['Y'].mean()\n",
    "plt.figure(figsize=(8, 6))\n",
    "sns.barplot(x=acceptance_rate_by_time.index, y=acceptance_rate_by_time.values)\n",
    "plt.title('Acceptance Rate by Time of Day for Coffee House Coupons')\n",
    "plt.xlabel('Time of Day')\n",
    "plt.ylabel('Acceptance Rate')\n",
    "plt.show()\n"
   ]
  },
  {
   "cell_type": "markdown",
   "metadata": {},
   "source": [
    "## Conclusion on Coffee Coupons"
   ]
  },
  {
   "cell_type": "markdown",
   "metadata": {},
   "source": [
    "The analysis of Coffee House coupon acceptance rates across different conditions provides intriguing insights into consumer behavior. Notably, the time of day significantly influences coupon redemption, with peaks observed at 2 PM and again at 7 AM. These times likely correspond to lunch breaks and morning routines, suggesting that consumers prefer to indulge in coffee during these specific periods. Conversely, the acceptance rates dip at 10 AM and 6 PM, times typically associated with the start of work hours and evenings, respectively, when consumers might be less inclined to take coffee breaks.\n",
    "\n",
    "Weather conditions also play a role in coupon acceptance, with the highest redemption rates during sunny days, closely followed by rainy conditions. This trend indicates that consumers might see coffee as a comforting treat during unpleasant weather or as an enjoyable complement to good weather. However, acceptance rates drop noticeably during snowy conditions, possibly due to the challenges of traveling in such weather, which could deter consumers from making extra stops for coffee.\n",
    "\n",
    "The influence of income ranges reveals that consumers with a reported income of \"$25000 - $49999\" show the highest likelihood of accepting coffee coupons, possibly reflecting a demographic that balances a desire for budget-friendly indulgences with discretionary spending power. Acceptance rates are lower among the lowest and highest income brackets, which might indicate differing priorities or disposable income levels that affect spending habits on luxuries like coffee.\n",
    "\n",
    "Furthermore, age plays a crucial role, with the highest acceptance rates seen in the '26-35' and '65+' age groups. Young professionals and seniors appear more inclined to utilize coffee house coupons, perhaps due to varying lifestyle needs that include frequent coffee consumption. The '26-35' age group might use coffee socially or as a workday staple, while seniors could appreciate it as part of a routine or social activity, leading to higher coupon utilization.\n",
    "\n",
    "Overall, these observations suggest that Coffee House coupons are most effectively redeemed by specific demographics at certain times of day and under favorable weather conditions, pointing to strategic opportunities for targeted marketing and promotions to enhance coupon acceptance rates."
   ]
  },
  {
   "cell_type": "markdown",
   "metadata": {},
   "source": []
  }
 ],
 "metadata": {
  "kernelspec": {
   "display_name": "base",
   "language": "python",
   "name": "python3"
  },
  "language_info": {
   "codemirror_mode": {
    "name": "ipython",
    "version": 3
   },
   "file_extension": ".py",
   "mimetype": "text/x-python",
   "name": "python",
   "nbconvert_exporter": "python",
   "pygments_lexer": "ipython3",
   "version": "3.9.12"
  }
 },
 "nbformat": 4,
 "nbformat_minor": 2
}
